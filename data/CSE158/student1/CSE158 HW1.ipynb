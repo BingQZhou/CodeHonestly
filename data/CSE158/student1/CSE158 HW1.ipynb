{
 "cells": [
  {
   "cell_type": "code",
   "execution_count": 2,
   "metadata": {},
   "outputs": [],
   "source": [
    "import csv\n",
    "import gzip\n",
    "import seaborn as sns\n",
    "import matplotlib.pyplot as plt\n",
    "from sklearn import datasets, linear_model\n",
    "from sklearn.model_selection import train_test_split\n",
    "from sklearn.metrics import mean_absolute_error\n",
    "from sklearn.metrics import r2_score\n",
    "import pandas as pd\n",
    "import numpy as np"
   ]
  },
  {
   "cell_type": "code",
   "execution_count": 3,
   "metadata": {},
   "outputs": [],
   "source": [
    "file = \"amazon_reviews_us_Gift_Card_v1_00.tsv\"\n",
    "header = ''"
   ]
  },
  {
   "cell_type": "code",
   "execution_count": 4,
   "metadata": {},
   "outputs": [],
   "source": [
    "dataset = []"
   ]
  },
  {
   "cell_type": "code",
   "execution_count": 5,
   "metadata": {},
   "outputs": [],
   "source": [
    "# read tsv file\n",
    "with open(file) as tsvfile:\n",
    "    reader = csv.reader(tsvfile, delimiter='\\t')\n",
    "    count = 0\n",
    "    for row in reader:\n",
    "        if count == 0:\n",
    "            header = row\n",
    "        else:\n",
    "            # Convert to key-value pairs\n",
    "            d = dict(zip(header, row))\n",
    "            # Convert strings to integers for some fields:\n",
    "            d['star_rating'] = int(d['star_rating'])\n",
    "            d['helpful_votes'] = int(d['helpful_votes'])\n",
    "            d['total_votes'] = int(d['total_votes'])\n",
    "            dataset.append(d)\n",
    "        count += 1"
   ]
  },
  {
   "cell_type": "code",
   "execution_count": 6,
   "metadata": {},
   "outputs": [
    {
     "data": {
      "text/plain": [
       "['marketplace',\n",
       " 'customer_id',\n",
       " 'review_id',\n",
       " 'product_id',\n",
       " 'product_parent',\n",
       " 'product_title',\n",
       " 'product_category',\n",
       " 'star_rating',\n",
       " 'helpful_votes',\n",
       " 'total_votes',\n",
       " 'vine',\n",
       " 'verified_purchase',\n",
       " 'review_headline',\n",
       " 'review_body',\n",
       " 'review_date']"
      ]
     },
     "execution_count": 6,
     "metadata": {},
     "output_type": "execute_result"
    }
   ],
   "source": [
    "# get header\n",
    "header"
   ]
  },
  {
   "cell_type": "code",
   "execution_count": 7,
   "metadata": {},
   "outputs": [
    {
     "data": {
      "text/plain": [
       "5"
      ]
     },
     "execution_count": 7,
     "metadata": {},
     "output_type": "execute_result"
    }
   ],
   "source": [
    "# check dataset\n",
    "dataset[0]\n",
    "dataset[0]['star_rating']"
   ]
  },
  {
   "cell_type": "markdown",
   "metadata": {},
   "source": [
    "## Question1"
   ]
  },
  {
   "cell_type": "code",
   "execution_count": 8,
   "metadata": {},
   "outputs": [],
   "source": [
    "one_star = 0\n",
    "two_star = 0\n",
    "three_star = 0\n",
    "four_star = 0\n",
    "five_star = 0\n",
    "six_star = 0\n",
    "# check if there is any invalid values\n",
    "other = 0\n",
    "\n",
    "for d in dataset:\n",
    "    if d['star_rating'] == 1:\n",
    "        one_star += 1\n",
    "    elif d['star_rating'] == 2:\n",
    "        two_star +=1\n",
    "    elif d['star_rating'] == 3:\n",
    "        three_star +=1\n",
    "    elif d['star_rating'] == 4:\n",
    "        four_star +=1\n",
    "    elif d['star_rating'] == 5:\n",
    "        five_star +=1\n",
    "    elif d['star_rating'] == 6:\n",
    "        six_star += 1\n",
    "    else:\n",
    "        print(d['star_rating'])\n",
    "        other += 1"
   ]
  },
  {
   "cell_type": "code",
   "execution_count": 9,
   "metadata": {
    "scrolled": true
   },
   "outputs": [
    {
     "name": "stdout",
     "output_type": "stream",
     "text": [
      "one_star value is 4766\n",
      "two_star value is 1560\n",
      "three_star value is 3147\n",
      "four_star value is 9808\n",
      "five_star value is 129029\n"
     ]
    }
   ],
   "source": [
    "# Ratings\n",
    "print(\"one_star value is\", one_star)\n",
    "print(\"two_star value is\", two_star)\n",
    "print(\"three_star value is\", three_star)\n",
    "print(\"four_star value is\", four_star)\n",
    "print(\"five_star value is\", five_star)"
   ]
  },
  {
   "cell_type": "code",
   "execution_count": 10,
   "metadata": {},
   "outputs": [
    {
     "data": {
      "image/png": "[encoded data removed]",
      "text/plain": [
       "<Figure size 432x288 with 1 Axes>"
      ]
     },
     "metadata": {
      "needs_background": "light"
     },
     "output_type": "display_data"
    }
   ],
   "source": [
    "# draw plots\n",
    "x = [u'one_star', u'two_star', u'three_star', u'four_star', u'five_star']\n",
    "y = [one_star, two_star, three_star, four_star, five_star]\n",
    "plt.bar(np.arange(5), y, color='green')\n",
    "plt.xlabel(\"Rating\")\n",
    "plt.ylabel(\"Count Rating\")\n",
    "plt.title(\"Distribution of Ratings\")\n",
    "plt.xticks(np.arange(5), x)\n",
    "plt.show()"
   ]
  },
  {
   "cell_type": "markdown",
   "metadata": {},
   "source": [
    "## Question2"
   ]
  },
  {
   "cell_type": "code",
   "execution_count": 11,
   "metadata": {},
   "outputs": [],
   "source": [
    "one_star_v = 0\n",
    "two_star_v = 0\n",
    "three_star_v = 0\n",
    "four_star_v = 0\n",
    "five_star_v = 0\n",
    "\n",
    "one_star_nv = 0\n",
    "two_star_nv = 0\n",
    "three_star_nv = 0\n",
    "four_star_nv = 0\n",
    "five_star_nv = 0"
   ]
  },
  {
   "cell_type": "code",
   "execution_count": 12,
   "metadata": {},
   "outputs": [],
   "source": [
    "for d in dataset:\n",
    "    if d['verified_purchase'] == 'Y':\n",
    "        if d['star_rating'] == 1:\n",
    "            one_star_v += 1\n",
    "        elif d['star_rating'] == 2:\n",
    "            two_star_v +=1\n",
    "        elif d['star_rating'] == 3:\n",
    "            three_star_v +=1\n",
    "        elif d['star_rating'] == 4:\n",
    "            four_star_v +=1\n",
    "        elif d['star_rating'] == 5:\n",
    "            five_star_v +=1\n",
    "        elif d['star_rating'] == 6:\n",
    "            six_star_v += 1\n",
    "    else:\n",
    "        if d['star_rating'] == 1:\n",
    "            one_star_nv += 1\n",
    "        elif d['star_rating'] == 2:\n",
    "            two_star_nv +=1\n",
    "        elif d['star_rating'] == 3:\n",
    "            three_star_nv +=1\n",
    "        elif d['star_rating'] == 4:\n",
    "            four_star_nv +=1\n",
    "        elif d['star_rating'] == 5:\n",
    "            five_star_nv +=1\n",
    "        elif d['star_rating'] == 6:\n",
    "            six_star_nv += 1"
   ]
  },
  {
   "cell_type": "code",
   "execution_count": 13,
   "metadata": {},
   "outputs": [
    {
     "name": "stdout",
     "output_type": "stream",
     "text": [
      "---Verified---\n",
      "one_star varified value is 3977\n",
      "two_star varified value is 1335\n",
      "three_star varified value is 2775\n",
      "four_star varified value is 8890\n",
      "five_star varified value is 118312\n",
      "---Unverified---\n",
      "one_star unverified value is 789\n",
      "two_star unverified value is 225\n",
      "three_star unverified value is 372\n",
      "four_star unverified value is 918\n",
      "five_star unverified value is 10717\n"
     ]
    }
   ],
   "source": [
    "# Ratings for verified\n",
    "print(\"---Verified---\")\n",
    "print(\"one_star varified value is\", one_star_v)\n",
    "print(\"two_star varified value is\", two_star_v)\n",
    "print(\"three_star varified value is\", three_star_v)\n",
    "print(\"four_star varified value is\", four_star_v)\n",
    "print(\"five_star varified value is\", five_star_v)\n",
    "print(\"---Unverified---\")\n",
    "# Ratings for unvarified\n",
    "print(\"one_star unverified value is\", one_star_nv)\n",
    "print(\"two_star unverified value is\", two_star_nv)\n",
    "print(\"three_star unverified value is\", three_star_nv)\n",
    "print(\"four_star unverified value is\", four_star_nv)\n",
    "print(\"five_star unverified value is\", five_star_nv)"
   ]
  },
  {
   "cell_type": "code",
   "execution_count": 15,
   "metadata": {},
   "outputs": [
    {
     "data": {
      "image/png": "[encoded data removed]",
      "text/plain": [
       "<Figure size 432x288 with 1 Axes>"
      ]
     },
     "metadata": {
      "needs_background": "light"
     },
     "output_type": "display_data"
    }
   ],
   "source": [
    "# plot to show difference\n",
    "verified = (one_star_v, two_star_v, three_star_v, four_star_v, five_star_v)\n",
    "unverified = (one_star_nv, one_star_nv, one_star_nv, one_star_nv, one_star_nv)\n",
    "\n",
    "wid = 0.35       \n",
    "plt.bar(np.arange(5), verified, wid, label='verified', color = 'green')\n",
    "plt.bar(np.arange(5) + wid, unverified, wid, label='unverified', color = 'blue')\n",
    "\n",
    "plt.ylabel('Count Rating')\n",
    "plt.title('Different between Verified and Unverified Rating')\n",
    "\n",
    "plt.xticks(np.arange(5) + wid / 2, ('one', 'two', 'three', 'four', 'five'))\n",
    "plt.show()"
   ]
  },
  {
   "cell_type": "markdown",
   "metadata": {},
   "source": [
    "## Question3"
   ]
  },
  {
   "cell_type": "code",
   "execution_count": 16,
   "metadata": {},
   "outputs": [],
   "source": [
    "# change char to binary\n",
    "def change_rating_binary(d):\n",
    "    if d['verified_purchase'] == 'Y':\n",
    "        return 1\n",
    "    else:\n",
    "        return 0"
   ]
  },
  {
   "cell_type": "code",
   "execution_count": 17,
   "metadata": {},
   "outputs": [],
   "source": [
    "# change review length to integer\n",
    "def change_length(d):\n",
    "    return len(d['review_body'])"
   ]
  },
  {
   "cell_type": "code",
   "execution_count": 18,
   "metadata": {},
   "outputs": [],
   "source": [
    "def feature(datum):\n",
    "    return 1"
   ]
  },
  {
   "cell_type": "code",
   "execution_count": 21,
   "metadata": {},
   "outputs": [],
   "source": [
    "#change them and feature them together\n",
    "X = [[feature(d), change_rating_binary(d), change_length(d)] for d in dataset]\n",
    "y = [d['star_rating'] for d in dataset]\n",
    "theta,residuals,rank,s = np.linalg.lstsq(X, y, rcond = -1)"
   ]
  },
  {
   "cell_type": "code",
   "execution_count": 22,
   "metadata": {},
   "outputs": [
    {
     "name": "stdout",
     "output_type": "stream",
     "text": [
      "theta:  [ 4.84503504e+00  4.98580589e-02 -1.24545526e-03]\n",
      "residuals:  [96527.7126718]\n",
      "rank:  3\n",
      "s:  [7.63737053e+04 4.13969743e+02 7.62987958e+01]\n"
     ]
    }
   ],
   "source": [
    "print('theta: ', theta)\n",
    "print('residuals: ', residuals)\n",
    "print('rank: ', rank)\n",
    "print('s: ',s)"
   ]
  },
  {
   "cell_type": "markdown",
   "metadata": {},
   "source": [
    "**Explaination:**\n",
    "1. theta0: It represents the intercept with y-axis in the equation. It means when the review length is 0 and the reivew is not verified; then the rating is about 4.845.\n",
    "\n",
    "\n",
    "2. theta1: It is positive, so it relfects a positive relationship with rating and verified. If give one more verified review, then the rating will improved by 4.9858e-02 by this review.\n",
    "\n",
    "\n",
    "3. theta2: It is negative, so it relfects a negative relationship with rating and comment length. If give one more review with more characters, then the rating will decreased by 1.245e-03 by this review."
   ]
  },
  {
   "cell_type": "markdown",
   "metadata": {},
   "source": [
    "## Question4##"
   ]
  },
  {
   "cell_type": "code",
   "execution_count": 25,
   "metadata": {},
   "outputs": [],
   "source": [
    "X_new = [[feature(d), change_rating_binary(d)] for d in dataset]\n",
    "y = [d['star_rating'] for d in dataset]\n",
    "theta_new,residuals_new,rank_new,s_new = np.linalg.lstsq(X_new, y, rcond = -1)"
   ]
  },
  {
   "cell_type": "code",
   "execution_count": 26,
   "metadata": {},
   "outputs": [
    {
     "name": "stdout",
     "output_type": "stream",
     "text": [
      "theta_new:  [4.578143   0.16793392]\n",
      "residuals_new:  [101651.71982147]\n",
      "rank_new:  2\n",
      "s_new:  [526.54065513  79.71159574]\n"
     ]
    }
   ],
   "source": [
    "print('theta_new: ', theta_new)\n",
    "print('residuals_new: ', residuals_new)\n",
    "print('rank_new: ', rank_new)\n",
    "print('s_new: ',s_new)"
   ]
  },
  {
   "cell_type": "markdown",
   "metadata": {},
   "source": [
    "**Explaination:**\n",
    "\n",
    "Since from the question3, we can see the word length has negative effect to the rating result. As a result, if we drop the \"negative effected\" coefficient, then the weight of effects bteween \"review is verified\" and \"rating\" will increase a lot. That will increase the coefficient of the feature."
   ]
  },
  {
   "cell_type": "markdown",
   "metadata": {},
   "source": [
    "## Question5##"
   ]
  },
  {
   "cell_type": "code",
   "execution_count": 27,
   "metadata": {},
   "outputs": [],
   "source": [
    "train_pct_index = int(0.9 * len(dataset))\n",
    "X_train, X_test = X_new[:train_pct_index], X_new[train_pct_index:]\n",
    "y_train, y_test = y[:train_pct_index], y[train_pct_index:]"
   ]
  },
  {
   "cell_type": "code",
   "execution_count": 28,
   "metadata": {},
   "outputs": [],
   "source": [
    "theta_train,residuals_train,rank_train,s_train = np.linalg.lstsq(X_train, y_train, rcond = -1)"
   ]
  },
  {
   "cell_type": "code",
   "execution_count": 29,
   "metadata": {},
   "outputs": [
    {
     "data": {
      "text/plain": [
       "array([4.43966713, 0.31636878])"
      ]
     },
     "execution_count": 29,
     "metadata": {},
     "output_type": "execute_result"
    }
   ],
   "source": [
    "theta_train"
   ]
  },
  {
   "cell_type": "code",
   "execution_count": 31,
   "metadata": {},
   "outputs": [
    {
     "name": "stdout",
     "output_type": "stream",
     "text": [
      "testing set MSE:  0.6554842196700205\n"
     ]
    }
   ],
   "source": [
    "# set up the equation to find trained y\n",
    "rating_train = theta_train[0] + [theta_train[1]*d[1] for d in X_train]\n",
    "# calculate mse for training\n",
    "mse_train = sum((y_train-rating_train)**2)/len(rating_train)\n",
    "print(\"testing set MSE: \",mse_train)"
   ]
  },
  {
   "cell_type": "code",
   "execution_count": 32,
   "metadata": {},
   "outputs": [
    {
     "name": "stdout",
     "output_type": "stream",
     "text": [
      "testing set MSE:  0.9723851990302826\n"
     ]
    }
   ],
   "source": [
    "# calculate MSE for testing set\n",
    "rating_test = theta_train[0] + [theta_train[1]*d[1] for d in X_test]\n",
    "mse_testing = sum((y_test-rating_test)**2)/len(rating_test)\n",
    "print(\"testing set MSE: \",mse_testing)"
   ]
  },
  {
   "cell_type": "markdown",
   "metadata": {},
   "source": [
    "## Question6##"
   ]
  },
  {
   "cell_type": "code",
   "execution_count": 33,
   "metadata": {},
   "outputs": [
    {
     "name": "stdout",
     "output_type": "stream",
     "text": [
      "testing set MAE:  0.6221007247297486\n",
      "testing set R^2:  -0.04811587359357783\n"
     ]
    }
   ],
   "source": [
    "print(\"testing set MAE: \", mean_absolute_error(y_test,rating_test))\n",
    "print(\"testing set R^2: \", r2_score(y_test,rating_test))"
   ]
  },
  {
   "cell_type": "markdown",
   "metadata": {},
   "source": [
    "## Question8##"
   ]
  },
  {
   "cell_type": "code",
   "execution_count": 40,
   "metadata": {},
   "outputs": [],
   "source": [
    "# get new features\n",
    "new_featureX = [[feature(d), d['star_rating'], change_length(d)] for d in dataset]\n",
    "new_featureY = [change_rating_binary(d) for d in dataset]\n",
    "X_train2, X_test2 = new_featureX[:train_pct_index], new_featureX[train_pct_index:]\n",
    "y_train2, y_test2 = new_featureY[:train_pct_index], new_featureY[train_pct_index:]"
   ]
  },
  {
   "cell_type": "code",
   "execution_count": 45,
   "metadata": {},
   "outputs": [
    {
     "name": "stderr",
     "output_type": "stream",
     "text": [
      "/anaconda3/lib/python3.7/site-packages/sklearn/linear_model/logistic.py:433: FutureWarning: Default solver will be changed to 'lbfgs' in 0.22. Specify a solver to silence this warning.\n",
      "  FutureWarning)\n"
     ]
    },
    {
     "data": {
      "text/plain": [
       "LogisticRegression(C=1.0, class_weight=None, dual=False, fit_intercept=True,\n",
       "          intercept_scaling=1, max_iter=100, multi_class='warn',\n",
       "          n_jobs=None, penalty='l2', random_state=None, solver='warn',\n",
       "          tol=0.0001, verbose=0, warm_start=False)"
      ]
     },
     "execution_count": 45,
     "metadata": {},
     "output_type": "execute_result"
    }
   ],
   "source": [
    "mod = linear_model.LogisticRegression(C=1.0)\n",
    "mod.fit(X_train2, y_train2)"
   ]
  },
  {
   "cell_type": "code",
   "execution_count": 47,
   "metadata": {},
   "outputs": [],
   "source": [
    "# get predictions\n",
    "train2_predictions = mod.predict(X_train2)\n",
    "test2_predictions = mod.predict(X_test2)"
   ]
  },
  {
   "cell_type": "code",
   "execution_count": 55,
   "metadata": {},
   "outputs": [],
   "source": [
    "correct_train = train2_predictions == y_train2\n",
    "correct_pred = test2_predictions == y_test2"
   ]
  },
  {
   "cell_type": "code",
   "execution_count": 67,
   "metadata": {},
   "outputs": [
    {
     "name": "stdout",
     "output_type": "stream",
     "text": [
      "train accuracy is:  0.9511683485791772\n",
      "test accuracy is:  0.5597734475085968\n"
     ]
    }
   ],
   "source": [
    "# train accuracy\n",
    "print(\"train accuracy is: \", sum(correct_train) / len(correct_train))\n",
    "print(\"test accuracy is: \", sum(correct_pred) / len(correct_pred))"
   ]
  },
  {
   "cell_type": "code",
   "execution_count": 79,
   "metadata": {},
   "outputs": [
    {
     "name": "stdout",
     "output_type": "stream",
     "text": [
      "The propotion of positive labels is:  0.5595711684984155\n",
      "THe propotion of positive predictions is:  0.9989886049490931\n"
     ]
    }
   ],
   "source": [
    "# positive labels\n",
    "print(\"The propotion of positive labels is: \", np.mean(y_test2))\n",
    "print(\"THe propotion of positive predictions is: \", np.mean(test2_predictions))"
   ]
  },
  {
   "cell_type": "markdown",
   "metadata": {},
   "source": [
    "## Question9##"
   ]
  },
  {
   "cell_type": "code",
   "execution_count": 260,
   "metadata": {},
   "outputs": [],
   "source": [
    "from sklearn.pipeline import Pipeline\n",
    "from sklearn.preprocessing import FunctionTransformer\n",
    "from sklearn.linear_model import LogisticRegression\n",
    "from sklearn.preprocessing import OneHotEncoder\n",
    "from sklearn.compose import ColumnTransformer\n",
    "from sklearn.preprocessing import StandardScaler\n",
    "import sklearn.preprocessing as pp\n",
    "from sklearn import preprocessing"
   ]
  },
  {
   "cell_type": "code",
   "execution_count": 265,
   "metadata": {},
   "outputs": [],
   "source": [
    "copied = pd.DataFrame(dataset)"
   ]
  },
  {
   "cell_type": "code",
   "execution_count": 266,
   "metadata": {},
   "outputs": [],
   "source": [
    "#proprocess data\n",
    "copied['review_len'] = copied['review_body'].fillna('').apply(lambda x: len(x))\n",
    "copied['verified_purchase'] = copied['verified_purchase'].apply(lambda x: 1 if x == 'Y' else 0)\n",
    "copied['review_date'] = pd.to_datetime(copied['review_date']).dt.year.fillna(0)\n",
    "copied_sub = copied.drop(['verified_purchase'],axis = 1)"
   ]
  },
  {
   "cell_type": "code",
   "execution_count": 268,
   "metadata": {},
   "outputs": [
    {
     "name": "stderr",
     "output_type": "stream",
     "text": [
      "/anaconda3/lib/python3.7/site-packages/sklearn/preprocessing/data.py:645: DataConversionWarning: Data with input dtype int64 were all converted to float64 by StandardScaler.\n",
      "  return self.partial_fit(X, y)\n",
      "/anaconda3/lib/python3.7/site-packages/sklearn/base.py:467: DataConversionWarning: Data with input dtype int64 were all converted to float64 by StandardScaler.\n",
      "  return self.fit(X, y, **fit_params).transform(X)\n",
      "/anaconda3/lib/python3.7/site-packages/sklearn/linear_model/logistic.py:433: FutureWarning: Default solver will be changed to 'lbfgs' in 0.22. Specify a solver to silence this warning.\n",
      "  FutureWarning)\n"
     ]
    },
    {
     "data": {
      "text/plain": [
       "Pipeline(memory=None,\n",
       "     steps=[('preprocessor', ColumnTransformer(n_jobs=None, remainder='passthrough', sparse_threshold=0.3,\n",
       "         transformer_weights=None,\n",
       "         transformers=[('Fae', Pipeline(memory=None,\n",
       "     steps=[('scaler', StandardScaler(copy=True, with_mean=True, with_std=True))]), ['review_len']), ('cat', P...penalty='l2', random_state=None, solver='warn',\n",
       "          tol=0.0001, verbose=0, warm_start=False))])"
      ]
     },
     "execution_count": 268,
     "metadata": {},
     "output_type": "execute_result"
    }
   ],
   "source": [
    "# log-scales review\n",
    "num_feat = ['review_len']\n",
    "num_transformer = Pipeline(steps=[\n",
    "    ('scaler', StandardScaler())\n",
    "])\n",
    "\n",
    "# one-hot encodes time\n",
    "group_time_feat = ['review_date']\n",
    "group_time_transformer = Pipeline(steps=[\n",
    "    ('onehot', OneHotEncoder(categories = 'auto',sparse = False))\n",
    "])\n",
    "\n",
    "# preprocessing pipeline (put them together)\n",
    "preproc = ColumnTransformer(transformers=[\n",
    "                            ('Fae', num_transformer, num_feat),\n",
    "                            ('cat', group_time_transformer, group_time_feat)],\n",
    "                            remainder='passthrough')\n",
    "\n",
    "X_train3,X_test3 = copied[['review_len','review_date']][:train_pct_index], copied[['review_len','review_date']][train_pct_index:]\n",
    "y_train3, y_test3 = copied['verified_purchase'][:train_pct_index], copied['verified_purchase'][train_pct_index:]\n",
    "\n",
    "pl = Pipeline(steps=[('preprocessor', preproc), ('regressor', LogisticRegression())])\n",
    "pl.fit(X_train3,y_train3)"
   ]
  },
  {
   "cell_type": "code",
   "execution_count": 272,
   "metadata": {},
   "outputs": [
    {
     "name": "stdout",
     "output_type": "stream",
     "text": [
      "Train Accuray:  0.9532360895721425\n",
      "Test Accuray:  0.5975996224125143\n"
     ]
    }
   ],
   "source": [
    "print(\"Train Accuray: \",model.score(X_train, y_train))\n",
    "print(\"Test Accuray: \", model.score(X_test, y_test))"
   ]
  },
  {
   "cell_type": "markdown",
   "metadata": {},
   "source": [
    "The first feature I designed is the log-scales of review length, and I would like to see whether the logrisim of length will improve the accuracy score. The second feature is the onehotencode of the reivew year. I extract the year of \"review_date\" and using onehotencode to binarize them in order to see further relation."
   ]
  },
  {
   "cell_type": "code",
   "execution_count": null,
   "metadata": {},
   "outputs": [],
   "source": []
  }
 ],
 "metadata": {
  "kernelspec": {
   "display_name": "Python 3",
   "language": "python",
   "name": "python3"
  },
  "language_info": {
   "codemirror_mode": {
    "name": "ipython",
    "version": 3
   },
   "file_extension": ".py",
   "mimetype": "text/x-python",
   "name": "python",
   "nbconvert_exporter": "python",
   "pygments_lexer": "ipython3",
   "version": "3.7.4"
  }
 },
 "nbformat": 4,
 "nbformat_minor": 2
}
