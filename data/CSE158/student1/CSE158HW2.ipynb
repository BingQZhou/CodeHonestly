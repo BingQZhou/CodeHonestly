{
 "cells": [
  {
   "cell_type": "code",
   "execution_count": 1,
   "metadata": {},
   "outputs": [],
   "source": [
    "from scipy.io import arff\n",
    "import pandas as pd\n",
    "from sklearn.linear_model import LogisticRegression"
   ]
  },
  {
   "cell_type": "code",
   "execution_count": 2,
   "metadata": {},
   "outputs": [
    {
     "data": {
      "text/html": [
       "<div>\n",
       "<style scoped>\n",
       "    .dataframe tbody tr th:only-of-type {\n",
       "        vertical-align: middle;\n",
       "    }\n",
       "\n",
       "    .dataframe tbody tr th {\n",
       "        vertical-align: top;\n",
       "    }\n",
       "\n",
       "    .dataframe thead th {\n",
       "        text-align: right;\n",
       "    }\n",
       "</style>\n",
       "<table border=\"1\" class=\"dataframe\">\n",
       "  <thead>\n",
       "    <tr style=\"text-align: right;\">\n",
       "      <th></th>\n",
       "      <th>Attr1</th>\n",
       "      <th>Attr2</th>\n",
       "      <th>Attr3</th>\n",
       "      <th>Attr4</th>\n",
       "      <th>Attr5</th>\n",
       "      <th>Attr6</th>\n",
       "      <th>Attr7</th>\n",
       "      <th>Attr8</th>\n",
       "      <th>Attr9</th>\n",
       "      <th>Attr10</th>\n",
       "      <th>...</th>\n",
       "      <th>Attr56</th>\n",
       "      <th>Attr57</th>\n",
       "      <th>Attr58</th>\n",
       "      <th>Attr59</th>\n",
       "      <th>Attr60</th>\n",
       "      <th>Attr61</th>\n",
       "      <th>Attr62</th>\n",
       "      <th>Attr63</th>\n",
       "      <th>Attr64</th>\n",
       "      <th>class</th>\n",
       "    </tr>\n",
       "  </thead>\n",
       "  <tbody>\n",
       "    <tr>\n",
       "      <td>0</td>\n",
       "      <td>0.088238</td>\n",
       "      <td>0.55472</td>\n",
       "      <td>0.01134</td>\n",
       "      <td>1.0205</td>\n",
       "      <td>-66.520</td>\n",
       "      <td>0.34204</td>\n",
       "      <td>0.109490</td>\n",
       "      <td>0.57752</td>\n",
       "      <td>1.0881</td>\n",
       "      <td>0.32036</td>\n",
       "      <td>...</td>\n",
       "      <td>0.080955</td>\n",
       "      <td>0.275430</td>\n",
       "      <td>0.91905</td>\n",
       "      <td>0.002024</td>\n",
       "      <td>7.2711</td>\n",
       "      <td>4.7343</td>\n",
       "      <td>142.760</td>\n",
       "      <td>2.5568</td>\n",
       "      <td>3.25970</td>\n",
       "      <td>0</td>\n",
       "    </tr>\n",
       "    <tr>\n",
       "      <td>1</td>\n",
       "      <td>0.048179</td>\n",
       "      <td>0.55041</td>\n",
       "      <td>0.10765</td>\n",
       "      <td>1.2437</td>\n",
       "      <td>-22.959</td>\n",
       "      <td>0.00000</td>\n",
       "      <td>0.059280</td>\n",
       "      <td>0.81682</td>\n",
       "      <td>1.5150</td>\n",
       "      <td>0.44959</td>\n",
       "      <td>...</td>\n",
       "      <td>0.240400</td>\n",
       "      <td>0.107160</td>\n",
       "      <td>0.77048</td>\n",
       "      <td>0.139380</td>\n",
       "      <td>10.1180</td>\n",
       "      <td>4.0950</td>\n",
       "      <td>106.430</td>\n",
       "      <td>3.4294</td>\n",
       "      <td>3.36220</td>\n",
       "      <td>0</td>\n",
       "    </tr>\n",
       "    <tr>\n",
       "      <td>2</td>\n",
       "      <td>0.099486</td>\n",
       "      <td>0.59991</td>\n",
       "      <td>0.37489</td>\n",
       "      <td>1.6529</td>\n",
       "      <td>19.036</td>\n",
       "      <td>0.21084</td>\n",
       "      <td>0.123950</td>\n",
       "      <td>0.66690</td>\n",
       "      <td>1.0972</td>\n",
       "      <td>0.40009</td>\n",
       "      <td>...</td>\n",
       "      <td>0.088581</td>\n",
       "      <td>0.248660</td>\n",
       "      <td>0.91142</td>\n",
       "      <td>0.064344</td>\n",
       "      <td>5.4655</td>\n",
       "      <td>2.4784</td>\n",
       "      <td>130.020</td>\n",
       "      <td>2.8072</td>\n",
       "      <td>31.64500</td>\n",
       "      <td>0</td>\n",
       "    </tr>\n",
       "    <tr>\n",
       "      <td>3</td>\n",
       "      <td>0.078518</td>\n",
       "      <td>0.20546</td>\n",
       "      <td>0.10393</td>\n",
       "      <td>2.7939</td>\n",
       "      <td>77.784</td>\n",
       "      <td>0.36515</td>\n",
       "      <td>0.093388</td>\n",
       "      <td>3.86720</td>\n",
       "      <td>1.2322</td>\n",
       "      <td>0.79454</td>\n",
       "      <td>...</td>\n",
       "      <td>0.188420</td>\n",
       "      <td>0.098822</td>\n",
       "      <td>0.81158</td>\n",
       "      <td>0.185660</td>\n",
       "      <td>11.3790</td>\n",
       "      <td>3.1692</td>\n",
       "      <td>53.575</td>\n",
       "      <td>6.8129</td>\n",
       "      <td>0.47096</td>\n",
       "      <td>0</td>\n",
       "    </tr>\n",
       "    <tr>\n",
       "      <td>4</td>\n",
       "      <td>0.125040</td>\n",
       "      <td>0.35440</td>\n",
       "      <td>0.31419</td>\n",
       "      <td>2.7127</td>\n",
       "      <td>17.942</td>\n",
       "      <td>0.30575</td>\n",
       "      <td>0.158430</td>\n",
       "      <td>1.82170</td>\n",
       "      <td>1.2362</td>\n",
       "      <td>0.64560</td>\n",
       "      <td>...</td>\n",
       "      <td>0.191090</td>\n",
       "      <td>0.193680</td>\n",
       "      <td>0.80891</td>\n",
       "      <td>0.264790</td>\n",
       "      <td>4.7737</td>\n",
       "      <td>5.7479</td>\n",
       "      <td>59.841</td>\n",
       "      <td>6.0995</td>\n",
       "      <td>2.22740</td>\n",
       "      <td>0</td>\n",
       "    </tr>\n",
       "  </tbody>\n",
       "</table>\n",
       "<p>5 rows × 65 columns</p>\n",
       "</div>"
      ],
      "text/plain": [
       "      Attr1    Attr2    Attr3   Attr4   Attr5    Attr6     Attr7    Attr8  \\\n",
       "0  0.088238  0.55472  0.01134  1.0205 -66.520  0.34204  0.109490  0.57752   \n",
       "1  0.048179  0.55041  0.10765  1.2437 -22.959  0.00000  0.059280  0.81682   \n",
       "2  0.099486  0.59991  0.37489  1.6529  19.036  0.21084  0.123950  0.66690   \n",
       "3  0.078518  0.20546  0.10393  2.7939  77.784  0.36515  0.093388  3.86720   \n",
       "4  0.125040  0.35440  0.31419  2.7127  17.942  0.30575  0.158430  1.82170   \n",
       "\n",
       "    Attr9   Attr10  ...    Attr56    Attr57   Attr58    Attr59   Attr60  \\\n",
       "0  1.0881  0.32036  ...  0.080955  0.275430  0.91905  0.002024   7.2711   \n",
       "1  1.5150  0.44959  ...  0.240400  0.107160  0.77048  0.139380  10.1180   \n",
       "2  1.0972  0.40009  ...  0.088581  0.248660  0.91142  0.064344   5.4655   \n",
       "3  1.2322  0.79454  ...  0.188420  0.098822  0.81158  0.185660  11.3790   \n",
       "4  1.2362  0.64560  ...  0.191090  0.193680  0.80891  0.264790   4.7737   \n",
       "\n",
       "   Attr61   Attr62  Attr63    Attr64  class  \n",
       "0  4.7343  142.760  2.5568   3.25970      0  \n",
       "1  4.0950  106.430  3.4294   3.36220      0  \n",
       "2  2.4784  130.020  2.8072  31.64500      0  \n",
       "3  3.1692   53.575  6.8129   0.47096      0  \n",
       "4  5.7479   59.841  6.0995   2.22740      0  \n",
       "\n",
       "[5 rows x 65 columns]"
      ]
     },
     "execution_count": 2,
     "metadata": {},
     "output_type": "execute_result"
    }
   ],
   "source": [
    "data = arff.loadarff('5year.arff')\n",
    "df = pd.DataFrame(data[0]).dropna()\n",
    "df['class'] = df['class'].str.decode(\"utf-8\")\n",
    "df = df.reset_index(drop=True)\n",
    "df.head(5)"
   ]
  },
  {
   "cell_type": "markdown",
   "metadata": {},
   "source": [
    "## Question1"
   ]
  },
  {
   "cell_type": "code",
   "execution_count": 3,
   "metadata": {},
   "outputs": [],
   "source": [
    "X, y = df.drop(['class'], axis = 1), df['class']"
   ]
  },
  {
   "cell_type": "code",
   "execution_count": 4,
   "metadata": {},
   "outputs": [
    {
     "name": "stderr",
     "output_type": "stream",
     "text": [
      "/opt/anaconda3/lib/python3.7/site-packages/sklearn/linear_model/logistic.py:432: FutureWarning: Default solver will be changed to 'lbfgs' in 0.22. Specify a solver to silence this warning.\n",
      "  FutureWarning)\n",
      "/opt/anaconda3/lib/python3.7/site-packages/sklearn/svm/base.py:929: ConvergenceWarning: Liblinear failed to converge, increase the number of iterations.\n",
      "  \"the number of iterations.\", ConvergenceWarning)\n"
     ]
    }
   ],
   "source": [
    "clf = LogisticRegression(C=1.0).fit(X, y)"
   ]
  },
  {
   "cell_type": "code",
   "execution_count": 5,
   "metadata": {},
   "outputs": [
    {
     "name": "stdout",
     "output_type": "stream",
     "text": [
      "The accuracy score is:  0.9663477400197954\n"
     ]
    }
   ],
   "source": [
    "# accuracy score\n",
    "score = clf.score(X,y)\n",
    "print(\"The accuracy score is: \",score)"
   ]
  },
  {
   "cell_type": "code",
   "execution_count": 6,
   "metadata": {},
   "outputs": [],
   "source": [
    "predicted_q1=clf.predict(X)"
   ]
  },
  {
   "cell_type": "code",
   "execution_count": 7,
   "metadata": {},
   "outputs": [],
   "source": [
    "def calculate_matrice_val(y, y_pred):\n",
    "\n",
    "    tp = 0\n",
    "    tn = 0\n",
    "    fp = 0\n",
    "    fn = 0\n",
    "\n",
    "    for i in range(len(y)):\n",
    "        if y[i] == '1' and y_pred[i] == '1':\n",
    "            tp += 1\n",
    "        if y[i] == '0' and y_pred[i] == '0':\n",
    "            tn += 1\n",
    "        if y[i] == '0' and y_pred[i] == '1':\n",
    "            fp += 1\n",
    "        if y[i] == '1' and y_pred[i] == '0':\n",
    "            fn += 1\n",
    "    return tp,tn,fp,fn"
   ]
  },
  {
   "cell_type": "code",
   "execution_count": 8,
   "metadata": {},
   "outputs": [],
   "source": [
    "tp_1, tn_1, fp_1, fn_1 = calculate_matrice_val(y, predicted_q1)\n",
    "tpr_1 = tp_1/(tp_1+fn_1)\n",
    "tnr_1 = tn_1/(tn_1+fp_1)"
   ]
  },
  {
   "cell_type": "code",
   "execution_count": 9,
   "metadata": {},
   "outputs": [
    {
     "name": "stdout",
     "output_type": "stream",
     "text": [
      "The BER score is:  0.4905374918830625\n"
     ]
    }
   ],
   "source": [
    "# balanced error rate\n",
    "BER_1 = 1-1/2*(tpr_1+tnr_1)\n",
    "print(\"The BER score is: \",BER_1)"
   ]
  },
  {
   "cell_type": "markdown",
   "metadata": {},
   "source": [
    "## Question2"
   ]
  },
  {
   "cell_type": "code",
   "execution_count": 10,
   "metadata": {},
   "outputs": [
    {
     "name": "stderr",
     "output_type": "stream",
     "text": [
      "/opt/anaconda3/lib/python3.7/site-packages/sklearn/linear_model/logistic.py:432: FutureWarning: Default solver will be changed to 'lbfgs' in 0.22. Specify a solver to silence this warning.\n",
      "  FutureWarning)\n",
      "/opt/anaconda3/lib/python3.7/site-packages/sklearn/svm/base.py:929: ConvergenceWarning: Liblinear failed to converge, increase the number of iterations.\n",
      "  \"the number of iterations.\", ConvergenceWarning)\n"
     ]
    }
   ],
   "source": [
    "clf_q2 = LogisticRegression(C=1.0, class_weight='balanced').fit(X, y)"
   ]
  },
  {
   "cell_type": "code",
   "execution_count": 11,
   "metadata": {},
   "outputs": [],
   "source": [
    "pred_q2 = clf_q2.predict(X)"
   ]
  },
  {
   "cell_type": "code",
   "execution_count": 12,
   "metadata": {},
   "outputs": [
    {
     "name": "stdout",
     "output_type": "stream",
     "text": [
      "The accuracy score is:  0.7815902342461234\n"
     ]
    }
   ],
   "source": [
    "# accuracy score\n",
    "score_2 = clf_q2.score(X,y)\n",
    "print(\"The accuracy score is: \",score_2)"
   ]
  },
  {
   "cell_type": "code",
   "execution_count": 13,
   "metadata": {},
   "outputs": [
    {
     "name": "stdout",
     "output_type": "stream",
     "text": [
      "The BER score is:  0.2123641877372322\n"
     ]
    }
   ],
   "source": [
    "# balanced error rate\n",
    "tp_2, tn_2, fp_2, fn_2 = calculate_matrice_val(y, pred_q2)\n",
    "tpr_2 = tp_2/(tp_2+fn_2)\n",
    "tnr_2 = tn_2/(tn_2+fp_2)\n",
    "\n",
    "BER_2 = 1-1/2*(tpr_2+tnr_2)\n",
    "print(\"The BER score is: \",BER_2)"
   ]
  },
  {
   "cell_type": "markdown",
   "metadata": {},
   "source": [
    "## Question3"
   ]
  },
  {
   "cell_type": "code",
   "execution_count": 14,
   "metadata": {},
   "outputs": [],
   "source": [
    "from sklearn.model_selection import train_test_split\n",
    "from sklearn.metrics import balanced_accuracy_score, fbeta_score"
   ]
  },
  {
   "cell_type": "code",
   "execution_count": 27,
   "metadata": {},
   "outputs": [],
   "source": [
    "x_train, x_test, y_train, y_test = train_test_split(X, y, train_size = 0.5)\n",
    "x_val, x_test, y_val, y_test = train_test_split(x_test, y_test, test_size= 0.5)"
   ]
  },
  {
   "cell_type": "code",
   "execution_count": 28,
   "metadata": {},
   "outputs": [
    {
     "name": "stderr",
     "output_type": "stream",
     "text": [
      "/opt/anaconda3/lib/python3.7/site-packages/sklearn/linear_model/logistic.py:432: FutureWarning: Default solver will be changed to 'lbfgs' in 0.22. Specify a solver to silence this warning.\n",
      "  FutureWarning)\n",
      "/opt/anaconda3/lib/python3.7/site-packages/sklearn/svm/base.py:929: ConvergenceWarning: Liblinear failed to converge, increase the number of iterations.\n",
      "  \"the number of iterations.\", ConvergenceWarning)\n"
     ]
    }
   ],
   "source": [
    "clf_q3 = LogisticRegression(C=1.0, class_weight='balanced').fit(x_train, y_train)"
   ]
  },
  {
   "cell_type": "code",
   "execution_count": 29,
   "metadata": {},
   "outputs": [
    {
     "name": "stdout",
     "output_type": "stream",
     "text": [
      "The accuracy score for train is:  0.7735973597359735\n",
      "The accuracy score for validation is:  0.7612137203166227\n",
      "The accuracy score for test is:  0.7783641160949868\n"
     ]
    }
   ],
   "source": [
    "# accuracy score\n",
    "score_trainq3 = clf_q3.score(x_train,y_train)\n",
    "score_valq3 = clf_q3.score(x_val,y_val)\n",
    "score_testq3 = clf_q3.score(x_test,y_test)\n",
    "\n",
    "print(\"The accuracy score for train is: \",score_trainq3)\n",
    "print(\"The accuracy score for validation is: \",score_valq3)\n",
    "print(\"The accuracy score for test is: \",score_testq3)"
   ]
  },
  {
   "cell_type": "code",
   "execution_count": 30,
   "metadata": {},
   "outputs": [
    {
     "name": "stdout",
     "output_type": "stream",
     "text": [
      "The BER score for train is:  0.23119551681195516\n",
      "The BER score for validation is:  0.22842354333037562\n",
      "The BER score for test is:  0.2756584922797457\n"
     ]
    }
   ],
   "source": [
    "# BER score\n",
    "ber_train = 1 - balanced_accuracy_score(y_train,clf_q3.predict(x_train))\n",
    "ber_val = 1 - balanced_accuracy_score(y_val,clf_q3.predict(x_val))\n",
    "ber_test = 1 - balanced_accuracy_score(y_test,clf_q3.predict(x_test))\n",
    "\n",
    "print(\"The BER score for train is: \",ber_train)\n",
    "print(\"The BER score for validation is: \",ber_val)\n",
    "print(\"The BER score for test is: \",ber_test)"
   ]
  },
  {
   "cell_type": "markdown",
   "metadata": {},
   "source": [
    "## Question 4"
   ]
  },
  {
   "cell_type": "code",
   "execution_count": 31,
   "metadata": {},
   "outputs": [],
   "source": [
    "import numpy as np"
   ]
  },
  {
   "cell_type": "code",
   "execution_count": 32,
   "metadata": {},
   "outputs": [
    {
     "name": "stderr",
     "output_type": "stream",
     "text": [
      "/opt/anaconda3/lib/python3.7/site-packages/sklearn/linear_model/logistic.py:432: FutureWarning: Default solver will be changed to 'lbfgs' in 0.22. Specify a solver to silence this warning.\n",
      "  FutureWarning)\n",
      "/opt/anaconda3/lib/python3.7/site-packages/sklearn/linear_model/logistic.py:432: FutureWarning: Default solver will be changed to 'lbfgs' in 0.22. Specify a solver to silence this warning.\n",
      "  FutureWarning)\n",
      "/opt/anaconda3/lib/python3.7/site-packages/sklearn/svm/base.py:929: ConvergenceWarning: Liblinear failed to converge, increase the number of iterations.\n",
      "  \"the number of iterations.\", ConvergenceWarning)\n",
      "/opt/anaconda3/lib/python3.7/site-packages/sklearn/linear_model/logistic.py:432: FutureWarning: Default solver will be changed to 'lbfgs' in 0.22. Specify a solver to silence this warning.\n",
      "  FutureWarning)\n",
      "/opt/anaconda3/lib/python3.7/site-packages/sklearn/svm/base.py:929: ConvergenceWarning: Liblinear failed to converge, increase the number of iterations.\n",
      "  \"the number of iterations.\", ConvergenceWarning)\n",
      "/opt/anaconda3/lib/python3.7/site-packages/sklearn/linear_model/logistic.py:432: FutureWarning: Default solver will be changed to 'lbfgs' in 0.22. Specify a solver to silence this warning.\n",
      "  FutureWarning)\n",
      "/opt/anaconda3/lib/python3.7/site-packages/sklearn/svm/base.py:929: ConvergenceWarning: Liblinear failed to converge, increase the number of iterations.\n",
      "  \"the number of iterations.\", ConvergenceWarning)\n",
      "/opt/anaconda3/lib/python3.7/site-packages/sklearn/linear_model/logistic.py:432: FutureWarning: Default solver will be changed to 'lbfgs' in 0.22. Specify a solver to silence this warning.\n",
      "  FutureWarning)\n",
      "/opt/anaconda3/lib/python3.7/site-packages/sklearn/svm/base.py:929: ConvergenceWarning: Liblinear failed to converge, increase the number of iterations.\n",
      "  \"the number of iterations.\", ConvergenceWarning)\n",
      "/opt/anaconda3/lib/python3.7/site-packages/sklearn/linear_model/logistic.py:432: FutureWarning: Default solver will be changed to 'lbfgs' in 0.22. Specify a solver to silence this warning.\n",
      "  FutureWarning)\n",
      "/opt/anaconda3/lib/python3.7/site-packages/sklearn/svm/base.py:929: ConvergenceWarning: Liblinear failed to converge, increase the number of iterations.\n",
      "  \"the number of iterations.\", ConvergenceWarning)\n",
      "/opt/anaconda3/lib/python3.7/site-packages/sklearn/linear_model/logistic.py:432: FutureWarning: Default solver will be changed to 'lbfgs' in 0.22. Specify a solver to silence this warning.\n",
      "  FutureWarning)\n",
      "/opt/anaconda3/lib/python3.7/site-packages/sklearn/svm/base.py:929: ConvergenceWarning: Liblinear failed to converge, increase the number of iterations.\n",
      "  \"the number of iterations.\", ConvergenceWarning)\n",
      "/opt/anaconda3/lib/python3.7/site-packages/sklearn/linear_model/logistic.py:432: FutureWarning: Default solver will be changed to 'lbfgs' in 0.22. Specify a solver to silence this warning.\n",
      "  FutureWarning)\n",
      "/opt/anaconda3/lib/python3.7/site-packages/sklearn/svm/base.py:929: ConvergenceWarning: Liblinear failed to converge, increase the number of iterations.\n",
      "  \"the number of iterations.\", ConvergenceWarning)\n",
      "/opt/anaconda3/lib/python3.7/site-packages/sklearn/linear_model/logistic.py:432: FutureWarning: Default solver will be changed to 'lbfgs' in 0.22. Specify a solver to silence this warning.\n",
      "  FutureWarning)\n",
      "/opt/anaconda3/lib/python3.7/site-packages/sklearn/svm/base.py:929: ConvergenceWarning: Liblinear failed to converge, increase the number of iterations.\n",
      "  \"the number of iterations.\", ConvergenceWarning)\n"
     ]
    }
   ],
   "source": [
    "c_range = 10.00 ** np.arange(-4,5)\n",
    "c_len = len(c_range)\n",
    "train_list = []\n",
    "val_list = []\n",
    "test_list = []\n",
    "\n",
    "for i in c_range:\n",
    "    clf_range = LogisticRegression(C=i, class_weight='balanced').fit(x_train, y_train)\n",
    "    train_list.append(1 - balanced_accuracy_score(y_train,clf_range.predict(x_train)))\n",
    "    val_list.append(1 - balanced_accuracy_score(y_val,clf_range.predict(x_val)))\n",
    "    test_list.append(1 - balanced_accuracy_score(y_test,clf_range.predict(x_test)))"
   ]
  },
  {
   "cell_type": "code",
   "execution_count": 33,
   "metadata": {},
   "outputs": [
    {
     "name": "stdout",
     "output_type": "stream",
     "text": [
      "c is 0.0001 \n",
      " train Ber is 0.2413138231631382 \n",
      " val Ber is 0.22638272700384499 \n",
      " test Ber is 0.2749772933696639\n",
      "c is 0.001 \n",
      " train Ber is 0.24508094645080947 \n",
      " val Ber is 0.23114463176574973 \n",
      " test Ber is 0.27770208900999094\n",
      "c is 0.01 \n",
      " train Ber is 0.20308219178082187 \n",
      " val Ber is 0.22434191067731435 \n",
      " test Ber is 0.26816530426884655\n",
      "c is 0.1 \n",
      " train Ber is 0.21731008717310085 \n",
      " val Ber is 0.22570245489500151 \n",
      " test Ber is 0.272252497729337\n",
      "c is 1.0 \n",
      " train Ber is 0.23119551681195516 \n",
      " val Ber is 0.22842354333037562 \n",
      " test Ber is 0.2756584922797457\n",
      "c is 10.0 \n",
      " train Ber is 0.22879825653798247 \n",
      " val Ber is 0.22706299911268846 \n",
      " test Ber is 0.2749772933696639\n",
      "c is 100.0 \n",
      " train Ber is 0.20582191780821923 \n",
      " val Ber is 0.22570245489500151 \n",
      " test Ber is 0.27089009990917345\n",
      "c is 1000.0 \n",
      " train Ber is 0.2166251556662515 \n",
      " val Ber is 0.22570245489500151 \n",
      " test Ber is 0.27157129881925524\n",
      "c is 10000.0 \n",
      " train Ber is 0.2082191780821918 \n",
      " val Ber is 0.22706299911268846 \n",
      " test Ber is 0.27089009990917345\n"
     ]
    }
   ],
   "source": [
    "for i in range(c_len):\n",
    "    print(\"c is\",c_range[i], \"\\n train Ber is\" , train_list[i], \"\\n val Ber is\" , val_list[i],\"\\n test Ber is\" , test_list[i])"
   ]
  },
  {
   "cell_type": "code",
   "execution_count": 34,
   "metadata": {},
   "outputs": [
    {
     "data": {
      "image/png": "[encoded data removed]",
      "text/plain": [
       "<Figure size 432x288 with 1 Axes>"
      ]
     },
     "metadata": {
      "needs_background": "light"
     },
     "output_type": "display_data"
    }
   ],
   "source": [
    "import matplotlib.pyplot as plt\n",
    "plt.plot(train_list,label = 'train_ber')\n",
    "plt.plot(val_list,label = 'val_ber')\n",
    "plt.plot(test_list, label = 'test_ber')\n",
    "plt.xticks(np.arange(c_len),c_range)\n",
    "plt.xlabel(\"c values\")\n",
    "plt.ylabel(\"ber values\")\n",
    "plt.legend(loc='upper right')\n",
    "plt.title(\"BER values for sets\")\n",
    "plt.show()"
   ]
  },
  {
   "cell_type": "markdown",
   "metadata": {},
   "source": [
    "Based on both the graph report and data report, I would like to choose C=0.01. When C=0.01, the BER values seems relative low for train dataset, validation dataset and test dataset."
   ]
  },
  {
   "cell_type": "markdown",
   "metadata": {},
   "source": [
    "## Question 5"
   ]
  },
  {
   "cell_type": "code",
   "execution_count": 23,
   "metadata": {},
   "outputs": [
    {
     "name": "stderr",
     "output_type": "stream",
     "text": [
      "/opt/anaconda3/lib/python3.7/site-packages/sklearn/linear_model/logistic.py:432: FutureWarning: Default solver will be changed to 'lbfgs' in 0.22. Specify a solver to silence this warning.\n",
      "  FutureWarning)\n"
     ]
    },
    {
     "name": "stdout",
     "output_type": "stream",
     "text": [
      "beta is 1, fbeta is  0.1504424778761062\n",
      "beta is 0.1, fbeta is  0.08489912974683546\n",
      "beta is 10, fbeta is  0.6598770176787087\n"
     ]
    },
    {
     "name": "stderr",
     "output_type": "stream",
     "text": [
      "/opt/anaconda3/lib/python3.7/site-packages/sklearn/svm/base.py:929: ConvergenceWarning: Liblinear failed to converge, increase the number of iterations.\n",
      "  \"the number of iterations.\", ConvergenceWarning)\n"
     ]
    }
   ],
   "source": [
    "from sklearn.metrics import fbeta_score\n",
    "clf_q5 = LogisticRegression(C=1.0, class_weight='balanced').fit(x_train, y_train)\n",
    "fbeta_1 = fbeta_score(y_test.astype(int), clf_q5.predict(x_test).astype(int), beta=1)\n",
    "print(\"beta is 1, fbeta is \", fbeta_1)\n",
    "\n",
    "fbeta_2 = fbeta_score(y_test.astype(int), clf_q5.predict(x_test).astype(int), beta=0.1)\n",
    "print(\"beta is 0.1, fbeta is \", fbeta_2)\n",
    "\n",
    "fbeta_3 = fbeta_score(y_test.astype(int), clf_q5.predict(x_test).astype(int), beta=10)\n",
    "print(\"beta is 10, fbeta is \", fbeta_3)"
   ]
  },
  {
   "cell_type": "markdown",
   "metadata": {},
   "source": [
    "## Question 7"
   ]
  },
  {
   "cell_type": "code",
   "execution_count": 24,
   "metadata": {},
   "outputs": [
    {
     "name": "stdout",
     "output_type": "stream",
     "text": [
      "[ 3.24044850e-07 -1.47508010e-06  1.70422860e-06  9.08803137e-06\n",
      "  3.20983885e-03  1.04978584e-06  3.73855537e-07  9.66448773e-06\n",
      " -6.81269158e-07  1.39672371e-06  3.03184244e-07  2.28015848e-06\n",
      " -7.04971460e-06  3.73361461e-07 -2.69519749e-03  1.91683997e-06\n",
      "  1.06562764e-05  1.91765911e-07  7.70947330e-07  5.94937238e-05\n",
      " -1.69958332e-05  2.42674828e-07  7.20000572e-07  9.96785384e-07\n",
      "  1.64311947e-06  1.67495118e-06  1.68930511e-05  4.62218089e-06\n",
      "  4.34838857e-06 -3.06796428e-06  7.55304087e-07 -4.59555789e-04\n",
      "  1.01969422e-05 -1.40896249e-06  2.23989481e-07 -9.18290082e-07\n",
      "  1.90352395e-03  1.21699965e-06  3.09966162e-07  4.52674062e-06\n",
      "  1.85158262e-06  5.02638839e-07  5.66846900e-05 -2.81203620e-06\n",
      " -3.50015492e-06  6.91534895e-06  8.84954604e-05  3.10511468e-07\n",
      "  7.26786545e-07  7.62231133e-06 -1.22783816e-06 -1.21052148e-06\n",
      " -2.43936990e-06  4.59475948e-06  9.99989168e-01  3.11842955e-07\n",
      " -2.57288722e-07 -4.64905957e-07 -7.62228797e-07 -2.21932543e-04\n",
      " -1.64798250e-05 -4.43100070e-04  1.24169054e-05 -1.06892242e-05]\n"
     ]
    }
   ],
   "source": [
    "from sklearn.decomposition import PCA\n",
    "\n",
    "pca = PCA()\n",
    "pca.fit(x_train)\n",
    "print(pca.components_[0])"
   ]
  },
  {
   "cell_type": "markdown",
   "metadata": {},
   "source": [
    "## Question 8"
   ]
  },
  {
   "cell_type": "code",
   "execution_count": 35,
   "metadata": {},
   "outputs": [
    {
     "name": "stderr",
     "output_type": "stream",
     "text": [
      "/opt/anaconda3/lib/python3.7/site-packages/sklearn/linear_model/logistic.py:432: FutureWarning: Default solver will be changed to 'lbfgs' in 0.22. Specify a solver to silence this warning.\n",
      "  FutureWarning)\n",
      "/opt/anaconda3/lib/python3.7/site-packages/sklearn/linear_model/logistic.py:432: FutureWarning: Default solver will be changed to 'lbfgs' in 0.22. Specify a solver to silence this warning.\n",
      "  FutureWarning)\n",
      "/opt/anaconda3/lib/python3.7/site-packages/sklearn/linear_model/logistic.py:432: FutureWarning: Default solver will be changed to 'lbfgs' in 0.22. Specify a solver to silence this warning.\n",
      "  FutureWarning)\n",
      "/opt/anaconda3/lib/python3.7/site-packages/sklearn/linear_model/logistic.py:432: FutureWarning: Default solver will be changed to 'lbfgs' in 0.22. Specify a solver to silence this warning.\n",
      "  FutureWarning)\n",
      "/opt/anaconda3/lib/python3.7/site-packages/sklearn/svm/base.py:929: ConvergenceWarning: Liblinear failed to converge, increase the number of iterations.\n",
      "  \"the number of iterations.\", ConvergenceWarning)\n",
      "/opt/anaconda3/lib/python3.7/site-packages/sklearn/linear_model/logistic.py:432: FutureWarning: Default solver will be changed to 'lbfgs' in 0.22. Specify a solver to silence this warning.\n",
      "  FutureWarning)\n",
      "/opt/anaconda3/lib/python3.7/site-packages/sklearn/svm/base.py:929: ConvergenceWarning: Liblinear failed to converge, increase the number of iterations.\n",
      "  \"the number of iterations.\", ConvergenceWarning)\n",
      "/opt/anaconda3/lib/python3.7/site-packages/sklearn/linear_model/logistic.py:432: FutureWarning: Default solver will be changed to 'lbfgs' in 0.22. Specify a solver to silence this warning.\n",
      "  FutureWarning)\n",
      "/opt/anaconda3/lib/python3.7/site-packages/sklearn/svm/base.py:929: ConvergenceWarning: Liblinear failed to converge, increase the number of iterations.\n",
      "  \"the number of iterations.\", ConvergenceWarning)\n"
     ]
    }
   ],
   "source": [
    "ran_N = np.arange(5,31,5)\n",
    "vallst = []\n",
    "testlst = []\n",
    "\n",
    "\n",
    "for i in ran_N:\n",
    "    \n",
    "    new_pca = PCA(n_components = i)\n",
    "    new_pca.fit(x_train)\n",
    "    \n",
    "    Xpca_train = np.matmul(x_train.to_numpy(), new_pca.components_.T)\n",
    "    Xpca_valid = np.matmul(x_val.to_numpy(), new_pca.components_.T)\n",
    "    Xpca_test = np.matmul(x_test.to_numpy(), new_pca.components_.T)\n",
    "    \n",
    "    clf_q8 = LogisticRegression(C=i, class_weight='balanced').fit(Xpca_train, y_train)\n",
    "    \n",
    "    vallst.append(1 - balanced_accuracy_score(y_val,clf_q8.predict(Xpca_valid)))\n",
    "    testlst.append(1 - balanced_accuracy_score(y_test,clf_q8.predict(Xpca_test)))"
   ]
  },
  {
   "cell_type": "code",
   "execution_count": 36,
   "metadata": {},
   "outputs": [
    {
     "name": "stdout",
     "output_type": "stream",
     "text": [
      "n is 5 \n",
      " validation Ber is 0.2821354628808046 \n",
      " test Ber is 0.2571525885558583\n",
      "n is 10 \n",
      " validation Ber is 0.24540076900325358 \n",
      " test Ber is 0.26299954586739327\n",
      "n is 15 \n",
      " validation Ber is 0.22431233362910385 \n",
      " test Ber is 0.31840372388737515\n",
      "n is 20 \n",
      " validation Ber is 0.23318544809228037 \n",
      " test Ber is 0.2917234332425068\n",
      "n is 25 \n",
      " validation Ber is 0.23930789707187228 \n",
      " test Ber is 0.2817892824704814\n",
      "n is 30 \n",
      " validation Ber is 0.22434191067731435 \n",
      " test Ber is 0.2702089009990918\n"
     ]
    }
   ],
   "source": [
    "for i in range(len(ran_N)):\n",
    "    print(\"n is\",ran_N[i], \"\\n validation Ber is\" , vallst[i], \"\\n test Ber is\" , testlst[i])"
   ]
  },
  {
   "cell_type": "code",
   "execution_count": 37,
   "metadata": {},
   "outputs": [
    {
     "data": {
      "image/png": "[encoded data removed]",
      "text/plain": [
       "<Figure size 432x288 with 1 Axes>"
      ]
     },
     "metadata": {
      "needs_background": "light"
     },
     "output_type": "display_data"
    }
   ],
   "source": [
    "plt.plot(vallst,label = 'val_ber')\n",
    "plt.plot(testlst, label = 'test_ber')\n",
    "plt.xticks(range(len(ran_N)),ran_N)\n",
    "plt.xlabel(\"c values\")\n",
    "plt.ylabel(\"ber values\")\n",
    "plt.legend(loc='upper right')\n",
    "plt.title(\"BER values for sets\")\n",
    "plt.show()"
   ]
  },
  {
   "cell_type": "code",
   "execution_count": null,
   "metadata": {},
   "outputs": [],
   "source": []
  }
 ],
 "metadata": {
  "kernelspec": {
   "display_name": "Python 3",
   "language": "python",
   "name": "python3"
  },
  "language_info": {
   "codemirror_mode": {
    "name": "ipython",
    "version": 3
   },
   "file_extension": ".py",
   "mimetype": "text/x-python",
   "name": "python",
   "nbconvert_exporter": "python",
   "pygments_lexer": "ipython3",
   "version": "3.7.4"
  }
 },
 "nbformat": 4,
 "nbformat_minor": 2
}
