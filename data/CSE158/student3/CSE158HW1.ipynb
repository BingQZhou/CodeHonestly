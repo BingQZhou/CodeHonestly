{
 "cells": [
  {
   "cell_type": "markdown",
   "metadata": {},
   "source": [
    "# CSE 158 HW 1\n",
    "#### Hongtao Jiang A13760857\n",
    "#### 10/12/19"
   ]
  },
  {
   "cell_type": "markdown",
   "metadata": {},
   "source": [
    "Before answering the questions, I imported all the models that will be used."
   ]
  },
  {
   "cell_type": "code",
   "execution_count": 1,
   "metadata": {},
   "outputs": [],
   "source": [
    "import pandas as pd\n",
    "import numpy\n",
    "import urllib\n",
    "import scipy.optimize\n",
    "import random\n",
    "from sklearn import svm\n",
    "from sklearn import linear_model\n",
    "from urllib.request import urlopen\n",
    "import matplotlib.pyplot as plt; plt.rcdefaults()\n",
    "import numpy as np\n",
    "import matplotlib.pyplot as plt\n",
    "from sklearn.linear_model import LinearRegression\n",
    "from sklearn.model_selection import train_test_split"
   ]
  },
  {
   "cell_type": "markdown",
   "metadata": {},
   "source": [
    "## Question 1\n",
    "\n",
    "Question: What is the distribution of ratings in the dataset? That is, how many 1-star, 2-star, 3-star (etc.) reviews are there? You may write out the values or include a simple plot (1 mark)."
   ]
  },
  {
   "cell_type": "markdown",
   "metadata": {},
   "source": [
    "Firstly, I imported the data and checked its dimensions."
   ]
  },
  {
   "cell_type": "code",
   "execution_count": 2,
   "metadata": {},
   "outputs": [
    {
     "name": "stdout",
     "output_type": "stream",
     "text": [
      "Dataframe dimensions: (148310, 15)\n"
     ]
    }
   ],
   "source": [
    "df_initial = pd.read_csv('amazon_reviews_us_Gift_Card_v1_00.csv',sep='\\t')\n",
    "print('Dataframe dimensions:', df_initial.shape)"
   ]
  },
  {
   "cell_type": "code",
   "execution_count": 3,
   "metadata": {},
   "outputs": [
    {
     "data": {
      "text/html": [
       "<div>\n",
       "<style scoped>\n",
       "    .dataframe tbody tr th:only-of-type {\n",
       "        vertical-align: middle;\n",
       "    }\n",
       "\n",
       "    .dataframe tbody tr th {\n",
       "        vertical-align: top;\n",
       "    }\n",
       "\n",
       "    .dataframe thead th {\n",
       "        text-align: right;\n",
       "    }\n",
       "</style>\n",
       "<table border=\"1\" class=\"dataframe\">\n",
       "  <thead>\n",
       "    <tr style=\"text-align: right;\">\n",
       "      <th></th>\n",
       "      <th>marketplace</th>\n",
       "      <th>customer_id</th>\n",
       "      <th>review_id</th>\n",
       "      <th>product_id</th>\n",
       "      <th>product_parent</th>\n",
       "      <th>product_title</th>\n",
       "      <th>product_category</th>\n",
       "      <th>star_rating</th>\n",
       "      <th>helpful_votes</th>\n",
       "      <th>total_votes</th>\n",
       "      <th>vine</th>\n",
       "      <th>verified_purchase</th>\n",
       "      <th>review_headline</th>\n",
       "      <th>review_body</th>\n",
       "      <th>review_date</th>\n",
       "    </tr>\n",
       "  </thead>\n",
       "  <tbody>\n",
       "    <tr>\n",
       "      <th>0</th>\n",
       "      <td>US</td>\n",
       "      <td>24371595</td>\n",
       "      <td>R27ZP1F1CD0C3Y</td>\n",
       "      <td>B004LLIL5A</td>\n",
       "      <td>346014806</td>\n",
       "      <td>Amazon eGift Card - Celebrate</td>\n",
       "      <td>Gift Card</td>\n",
       "      <td>5</td>\n",
       "      <td>0</td>\n",
       "      <td>0</td>\n",
       "      <td>N</td>\n",
       "      <td>Y</td>\n",
       "      <td>Five Stars</td>\n",
       "      <td>Great birthday gift for a young adult.</td>\n",
       "      <td>2015-08-31</td>\n",
       "    </tr>\n",
       "    <tr>\n",
       "      <th>1</th>\n",
       "      <td>US</td>\n",
       "      <td>42489718</td>\n",
       "      <td>RJ7RSBCHUDNNE</td>\n",
       "      <td>B004LLIKVU</td>\n",
       "      <td>473048287</td>\n",
       "      <td>Amazon.com eGift Cards</td>\n",
       "      <td>Gift Card</td>\n",
       "      <td>5</td>\n",
       "      <td>0</td>\n",
       "      <td>0</td>\n",
       "      <td>N</td>\n",
       "      <td>Y</td>\n",
       "      <td>Gift card for the greatest selection of items ...</td>\n",
       "      <td>It's an Amazon gift card and with over 9823983...</td>\n",
       "      <td>2015-08-31</td>\n",
       "    </tr>\n",
       "    <tr>\n",
       "      <th>2</th>\n",
       "      <td>US</td>\n",
       "      <td>861463</td>\n",
       "      <td>R1HVYBSKLQJI5S</td>\n",
       "      <td>B00IX1I3G6</td>\n",
       "      <td>926539283</td>\n",
       "      <td>Amazon.com Gift Card Balance Reload</td>\n",
       "      <td>Gift Card</td>\n",
       "      <td>5</td>\n",
       "      <td>0</td>\n",
       "      <td>0</td>\n",
       "      <td>N</td>\n",
       "      <td>Y</td>\n",
       "      <td>Five Stars</td>\n",
       "      <td>Good</td>\n",
       "      <td>2015-08-31</td>\n",
       "    </tr>\n",
       "    <tr>\n",
       "      <th>3</th>\n",
       "      <td>US</td>\n",
       "      <td>25283295</td>\n",
       "      <td>R2HAXF0IIYQBIR</td>\n",
       "      <td>B00IX1I3G6</td>\n",
       "      <td>926539283</td>\n",
       "      <td>Amazon.com Gift Card Balance Reload</td>\n",
       "      <td>Gift Card</td>\n",
       "      <td>1</td>\n",
       "      <td>0</td>\n",
       "      <td>0</td>\n",
       "      <td>N</td>\n",
       "      <td>Y</td>\n",
       "      <td>One Star</td>\n",
       "      <td>Fair</td>\n",
       "      <td>2015-08-31</td>\n",
       "    </tr>\n",
       "    <tr>\n",
       "      <th>4</th>\n",
       "      <td>US</td>\n",
       "      <td>397970</td>\n",
       "      <td>RNYLPX611NB7Q</td>\n",
       "      <td>B005ESMGV4</td>\n",
       "      <td>379368939</td>\n",
       "      <td>Amazon.com Gift Cards, Pack of 3 (Various Desi...</td>\n",
       "      <td>Gift Card</td>\n",
       "      <td>5</td>\n",
       "      <td>0</td>\n",
       "      <td>0</td>\n",
       "      <td>N</td>\n",
       "      <td>Y</td>\n",
       "      <td>Five Stars</td>\n",
       "      <td>I can't believe how quickly Amazon can get the...</td>\n",
       "      <td>2015-08-31</td>\n",
       "    </tr>\n",
       "  </tbody>\n",
       "</table>\n",
       "</div>"
      ],
      "text/plain": [
       "  marketplace  customer_id       review_id  product_id  product_parent  \\\n",
       "0          US     24371595  R27ZP1F1CD0C3Y  B004LLIL5A       346014806   \n",
       "1          US     42489718   RJ7RSBCHUDNNE  B004LLIKVU       473048287   \n",
       "2          US       861463  R1HVYBSKLQJI5S  B00IX1I3G6       926539283   \n",
       "3          US     25283295  R2HAXF0IIYQBIR  B00IX1I3G6       926539283   \n",
       "4          US       397970   RNYLPX611NB7Q  B005ESMGV4       379368939   \n",
       "\n",
       "                                       product_title product_category  \\\n",
       "0                      Amazon eGift Card - Celebrate        Gift Card   \n",
       "1                             Amazon.com eGift Cards        Gift Card   \n",
       "2                Amazon.com Gift Card Balance Reload        Gift Card   \n",
       "3                Amazon.com Gift Card Balance Reload        Gift Card   \n",
       "4  Amazon.com Gift Cards, Pack of 3 (Various Desi...        Gift Card   \n",
       "\n",
       "   star_rating  helpful_votes  total_votes vine verified_purchase  \\\n",
       "0            5              0            0    N                 Y   \n",
       "1            5              0            0    N                 Y   \n",
       "2            5              0            0    N                 Y   \n",
       "3            1              0            0    N                 Y   \n",
       "4            5              0            0    N                 Y   \n",
       "\n",
       "                                     review_headline  \\\n",
       "0                                         Five Stars   \n",
       "1  Gift card for the greatest selection of items ...   \n",
       "2                                         Five Stars   \n",
       "3                                           One Star   \n",
       "4                                         Five Stars   \n",
       "\n",
       "                                         review_body review_date  \n",
       "0             Great birthday gift for a young adult.  2015-08-31  \n",
       "1  It's an Amazon gift card and with over 9823983...  2015-08-31  \n",
       "2                                               Good  2015-08-31  \n",
       "3                                               Fair  2015-08-31  \n",
       "4  I can't believe how quickly Amazon can get the...  2015-08-31  "
      ]
     },
     "metadata": {},
     "output_type": "display_data"
    }
   ],
   "source": [
    "display(df_initial[:5])"
   ]
  },
  {
   "cell_type": "markdown",
   "metadata": {},
   "source": [
    "#### Answer for Question 1:"
   ]
  },
  {
   "cell_type": "code",
   "execution_count": 4,
   "metadata": {},
   "outputs": [
    {
     "name": "stdout",
     "output_type": "stream",
     "text": [
      "1 Star Rating: 4766\n",
      "2 Star Rating: 1560\n",
      "3 Star Rating: 3147\n",
      "4 Star Rating: 9808\n",
      "5 Star Rating: 129029\n"
     ]
    },
    {
     "data": {
      "image/png": "[encoded data removed]",
      "text/plain": [
       "<Figure size 432x288 with 1 Axes>"
      ]
     },
     "metadata": {
      "needs_background": "light"
     },
     "output_type": "display_data"
    }
   ],
   "source": [
    "print('1 Star Rating:', df_initial[df_initial.star_rating == 1].shape[0])\n",
    "print('2 Star Rating:', df_initial[df_initial.star_rating == 2].shape[0])\n",
    "print('3 Star Rating:', df_initial[df_initial.star_rating == 3].shape[0])\n",
    "print('4 Star Rating:', df_initial[df_initial.star_rating == 4].shape[0])\n",
    "print('5 Star Rating:', df_initial[df_initial.star_rating == 5].shape[0])\n",
    "\n",
    "objects = ('1 Star', '2 Star', '3 Star', '4 Star', '5 Star')\n",
    "y_pos = np.arange(len(objects))\n",
    "performance = [df_initial[df_initial.star_rating == 1].shape[0],\n",
    "               df_initial[df_initial.star_rating == 2].shape[0],\n",
    "               df_initial[df_initial.star_rating == 3].shape[0],\n",
    "               df_initial[df_initial.star_rating == 4].shape[0],\n",
    "               df_initial[df_initial.star_rating == 5].shape[0]]\n",
    "\n",
    "plt.bar(y_pos, performance, align='center', alpha=0.5)\n",
    "plt.xticks(y_pos, objects)\n",
    "plt.ylabel('Number of Ratings')\n",
    "plt.title('Distribution of Ratings')\n",
    "\n",
    "plt.show()"
   ]
  },
  {
   "cell_type": "markdown",
   "metadata": {},
   "source": [
    "## Question 2\n",
    "\n",
    "Question: Repeat the above question, but generate the distribution (a) only for reviews that are ‘verified,’ and (b) only for reviews that are not verified. Write out the values or generate a plot to show the difference between these distributions (1 mark)."
   ]
  },
  {
   "cell_type": "markdown",
   "metadata": {},
   "source": [
    "#### Answer for Question 2:\n",
    "\n",
    "#### (a) only for reviews that are ‘verified’ :"
   ]
  },
  {
   "cell_type": "code",
   "execution_count": 5,
   "metadata": {},
   "outputs": [],
   "source": [
    "df_verified = df_initial[df_initial.verified_purchase == 'Y']"
   ]
  },
  {
   "cell_type": "code",
   "execution_count": 6,
   "metadata": {},
   "outputs": [
    {
     "name": "stdout",
     "output_type": "stream",
     "text": [
      "1 Star Rating: 3977\n",
      "2 Star Rating: 1335\n",
      "3 Star Rating: 2775\n",
      "4 Star Rating: 8890\n",
      "5 Star Rating: 118312\n"
     ]
    },
    {
     "data": {
      "image/png": "[encoded data removed]",
      "text/plain": [
       "<Figure size 432x288 with 1 Axes>"
      ]
     },
     "metadata": {
      "needs_background": "light"
     },
     "output_type": "display_data"
    }
   ],
   "source": [
    "print('1 Star Rating:', df_verified[df_verified.star_rating == 1].shape[0])\n",
    "print('2 Star Rating:', df_verified[df_verified.star_rating == 2].shape[0])\n",
    "print('3 Star Rating:', df_verified[df_verified.star_rating == 3].shape[0])\n",
    "print('4 Star Rating:', df_verified[df_verified.star_rating == 4].shape[0])\n",
    "print('5 Star Rating:', df_verified[df_verified.star_rating == 5].shape[0])\n",
    "objects = ('1 Star', '2 Star', '3 Star', '4 Star', '5 Star')\n",
    "y_pos = np.arange(len(objects))\n",
    "performance = [df_verified[df_verified.star_rating == 1].shape[0],\n",
    "               df_verified[df_verified.star_rating == 2].shape[0],\n",
    "               df_verified[df_verified.star_rating == 3].shape[0],\n",
    "               df_verified[df_verified.star_rating == 4].shape[0],\n",
    "               df_verified[df_verified.star_rating == 5].shape[0]]\n",
    "\n",
    "plt.bar(y_pos, performance, align='center', alpha=0.5)\n",
    "plt.xticks(y_pos, objects)\n",
    "plt.ylabel('Number of Ratings')\n",
    "plt.title('Distribution of Verified Ratings')\n",
    "\n",
    "plt.show()"
   ]
  },
  {
   "cell_type": "markdown",
   "metadata": {},
   "source": [
    "#### (b) only for reviews that are not verified:"
   ]
  },
  {
   "cell_type": "code",
   "execution_count": 7,
   "metadata": {},
   "outputs": [],
   "source": [
    "df_unverified = df_initial[df_initial.verified_purchase == 'N']"
   ]
  },
  {
   "cell_type": "code",
   "execution_count": 8,
   "metadata": {},
   "outputs": [
    {
     "name": "stdout",
     "output_type": "stream",
     "text": [
      "1 Star Rating: 789\n",
      "2 Star Rating: 225\n",
      "3 Star Rating: 372\n",
      "4 Star Rating: 918\n",
      "5 Star Rating: 10717\n"
     ]
    },
    {
     "data": {
      "image/png": "[encoded data removed]",
      "text/plain": [
       "<Figure size 432x288 with 1 Axes>"
      ]
     },
     "metadata": {
      "needs_background": "light"
     },
     "output_type": "display_data"
    }
   ],
   "source": [
    "print('1 Star Rating:', df_unverified[df_unverified.star_rating == 1].shape[0])\n",
    "print('2 Star Rating:', df_unverified[df_unverified.star_rating == 2].shape[0])\n",
    "print('3 Star Rating:', df_unverified[df_unverified.star_rating == 3].shape[0])\n",
    "print('4 Star Rating:', df_unverified[df_unverified.star_rating == 4].shape[0])\n",
    "print('5 Star Rating:', df_unverified[df_unverified.star_rating == 5].shape[0])\n",
    "objects = ('1 Star', '2 Star', '3 Star', '4 Star', '5 Star')\n",
    "y_pos = np.arange(len(objects))\n",
    "performance = [df_unverified[df_unverified.star_rating == 1].shape[0],\n",
    "               df_unverified[df_unverified.star_rating == 2].shape[0],\n",
    "               df_unverified[df_unverified.star_rating == 3].shape[0],\n",
    "               df_unverified[df_unverified.star_rating == 4].shape[0],\n",
    "               df_unverified[df_unverified.star_rating == 5].shape[0]]\n",
    "\n",
    "plt.bar(y_pos, performance, align='center', alpha=0.5)\n",
    "plt.xticks(y_pos, objects)\n",
    "plt.ylabel('Number of Ratings')\n",
    "plt.title('Distribution of Verified Ratings')\n",
    "\n",
    "plt.show()"
   ]
  },
  {
   "cell_type": "markdown",
   "metadata": {},
   "source": [
    "#### The difference between (a) and (b):\n",
    "\n",
    "I showed the difference in two ways.\n",
    "\n",
    "1. The first way is to compute the difference and show it in a bar chart for each star rating:"
   ]
  },
  {
   "cell_type": "code",
   "execution_count": 9,
   "metadata": {},
   "outputs": [
    {
     "name": "stdout",
     "output_type": "stream",
     "text": [
      "1 Star Rating Difference: 3188\n",
      "2 Star Rating Difference: 1110\n",
      "3 Star Rating Difference: 2403\n",
      "4 Star Rating Difference: 7972\n",
      "5 Star Rating Difference: 107595\n"
     ]
    },
    {
     "data": {
      "image/png": "[encoded data removed]",
      "text/plain": [
       "<Figure size 432x288 with 1 Axes>"
      ]
     },
     "metadata": {
      "needs_background": "light"
     },
     "output_type": "display_data"
    }
   ],
   "source": [
    "diff1 = df_verified[df_verified.star_rating == 1].shape[0] - df_unverified[df_unverified.star_rating == 1].shape[0]\n",
    "diff2 = df_verified[df_verified.star_rating == 2].shape[0] - df_unverified[df_unverified.star_rating == 2].shape[0]\n",
    "diff3 = df_verified[df_verified.star_rating == 3].shape[0] - df_unverified[df_unverified.star_rating == 3].shape[0]\n",
    "diff4 = df_verified[df_verified.star_rating == 4].shape[0] - df_unverified[df_unverified.star_rating == 4].shape[0]\n",
    "diff5 = df_verified[df_verified.star_rating == 5].shape[0] - df_unverified[df_unverified.star_rating == 5].shape[0]\n",
    "\n",
    "\n",
    "print('1 Star Rating Difference:', diff1)\n",
    "print('2 Star Rating Difference:', diff2)\n",
    "print('3 Star Rating Difference:', diff3)\n",
    "print('4 Star Rating Difference:', diff4)\n",
    "print('5 Star Rating Difference:', diff5)\n",
    "objects = ('1 Star Diff', '2 Star Diff', '3 Star Diff', '4 Star Diff', '5 Star Diff')\n",
    "y_pos = np.arange(len(objects))\n",
    "performance = [diff1, diff2, diff3,diff4, diff5]\n",
    "\n",
    "plt.bar(y_pos, performance, align='center', alpha=0.5)\n",
    "plt.xticks(y_pos, objects)\n",
    "plt.ylabel('Number of Ratings')\n",
    "plt.title('Distribution of Difference between verified and unverified')\n",
    "\n",
    "plt.show()"
   ]
  },
  {
   "cell_type": "markdown",
   "metadata": {},
   "source": [
    "2. The second way is to put (a)'s and (b)'s bar chart together to visualize the difference."
   ]
  },
  {
   "cell_type": "code",
   "execution_count": 10,
   "metadata": {},
   "outputs": [
    {
     "data": {
      "image/png": "[encoded data removed]",
      "text/plain": [
       "<Figure size 360x504 with 1 Axes>"
      ]
     },
     "metadata": {
      "needs_background": "light"
     },
     "output_type": "display_data"
    }
   ],
   "source": [
    "df_initial[df_initial['verified_purchase']=='Y'].star_rating.plot(kind='hist',color='blue',edgecolor='black',alpha=0.5,figsize=(5,7))\n",
    "df_initial[df_initial['verified_purchase']=='N'].star_rating.plot(kind='hist',color='magenta',edgecolor='black',alpha=0.5,figsize=(5,7))\n",
    "plt.legend(labels=['Verified','Unverified'])\n",
    "plt.title('Distribution of Difference between Verified and Unverified', size=24)\n",
    "plt.xlabel('Star Rating', size=18)\n",
    "plt.ylabel('Number of Ratings', size=18);"
   ]
  },
  {
   "cell_type": "markdown",
   "metadata": {},
   "source": [
    "## Question 3\n",
    "\n",
    "Question: Train a simple predictor to predict the star rating using two features:\n",
    "\n",
    "star rating ≃ θ0 + θ1 × [review is verified] + θ2 × [review length]\n",
    "\n",
    "Report the values of θ0, θ1, and θ2. Briefly describe your interpretation of these values, i.e., what do θ0, θ1, and θ2 represent? Explain these in terms of the features and labels, e.g. if the coefficient of ‘review length’ is negative, what would that say about verified versus unverified reviews (1 mark)?"
   ]
  },
  {
   "cell_type": "markdown",
   "metadata": {},
   "source": [
    "#### Answer for Question 3:"
   ]
  },
  {
   "cell_type": "markdown",
   "metadata": {},
   "source": [
    "I created two new columns here: one is **if_verified** as a binary column to show if the review is verified. Other one is **review_length**, which represents the length of the review string."
   ]
  },
  {
   "cell_type": "code",
   "execution_count": 11,
   "metadata": {},
   "outputs": [
    {
     "data": {
      "text/plain": [
       "LinearRegression(copy_X=True, fit_intercept=True, n_jobs=None, normalize=False)"
      ]
     },
     "execution_count": 11,
     "metadata": {},
     "output_type": "execute_result"
    }
   ],
   "source": [
    "df_initial['if_verified'] = [1 if d == 'Y' else 0 for d in df_initial.verified_purchase]\n",
    "df_initial['review_length'] = [len(str(s)) for s in df_initial.review_body]\n",
    "X = df_initial[['if_verified','review_length']]\n",
    "y = df_initial['star_rating']\n",
    "\n",
    "lr_q3 = LinearRegression()\n",
    "lr_q3.fit(X, y)"
   ]
  },
  {
   "cell_type": "code",
   "execution_count": 12,
   "metadata": {},
   "outputs": [
    {
     "data": {
      "text/html": [
       "<div>\n",
       "<style scoped>\n",
       "    .dataframe tbody tr th:only-of-type {\n",
       "        vertical-align: middle;\n",
       "    }\n",
       "\n",
       "    .dataframe tbody tr th {\n",
       "        vertical-align: top;\n",
       "    }\n",
       "\n",
       "    .dataframe thead th {\n",
       "        text-align: right;\n",
       "    }\n",
       "</style>\n",
       "<table border=\"1\" class=\"dataframe\">\n",
       "  <thead>\n",
       "    <tr style=\"text-align: right;\">\n",
       "      <th></th>\n",
       "      <th>Coefficient</th>\n",
       "    </tr>\n",
       "  </thead>\n",
       "  <tbody>\n",
       "    <tr>\n",
       "      <th>if_verified</th>\n",
       "      <td>0.049858</td>\n",
       "    </tr>\n",
       "    <tr>\n",
       "      <th>review_length</th>\n",
       "      <td>-0.001245</td>\n",
       "    </tr>\n",
       "  </tbody>\n",
       "</table>\n",
       "</div>"
      ],
      "text/plain": [
       "               Coefficient\n",
       "if_verified       0.049858\n",
       "review_length    -0.001245"
      ]
     },
     "execution_count": 12,
     "metadata": {},
     "output_type": "execute_result"
    }
   ],
   "source": [
    "coeff_df = pd.DataFrame(lr_q3.coef_, X.columns, columns=['Coefficient'])\n",
    "coeff_df"
   ]
  },
  {
   "cell_type": "code",
   "execution_count": 13,
   "metadata": {},
   "outputs": [
    {
     "data": {
      "text/plain": [
       "4.845035348553754"
      ]
     },
     "execution_count": 13,
     "metadata": {},
     "output_type": "execute_result"
    }
   ],
   "source": [
    "lr_q3.intercept_"
   ]
  },
  {
   "cell_type": "markdown",
   "metadata": {},
   "source": [
    "From the code above, I computed θ0 = 4.845035348553754, θ1 = 0.049858, and θ2 = -0.001245. \n",
    "\n",
    "For θ0, it is the expected mean value of star rating when all both if_verified and review length equals to zero. \n",
    "\n",
    "For θ1, it is the weight of if_verified in the regression model. More sepecifically, θ1 represents the mean change in the response variable, which is the star rating, for one unit of change in the predictor variable if_verified while holding other predictors review_length in the model constant.\n",
    "\n",
    "For θ2, it is the weight of review_length in the regression model. More sepecifically, θ2 represents the mean change in the response variable, which is the star rating, for one unit of change in the predictor variable review_length while holding other predictors if_verified in the model constant.\n",
    "\n",
    "Since θ2 is negative, it shows that the length of a review is inversely proportional to its star rating."
   ]
  },
  {
   "cell_type": "markdown",
   "metadata": {},
   "source": [
    "## Question 4\n",
    "\n",
    "Question: Train another predictor that only uses one feature:\n",
    "\n",
    "star rating ≃ θ0 + θ1 × [review is verified]\n",
    "\n",
    "Report the values of θ0 and θ1. Note that coefficient you found here might be quite different (i.e., much larger or smaller) than the one from Question 3, even though these coefficients refer to the same feature.\n",
    "Provide an explanation as to why these coefficients might vary so significantly (1 mark)"
   ]
  },
  {
   "cell_type": "markdown",
   "metadata": {},
   "source": [
    "#### Answer for Question 4:"
   ]
  },
  {
   "cell_type": "code",
   "execution_count": 14,
   "metadata": {},
   "outputs": [
    {
     "data": {
      "text/plain": [
       "LinearRegression(copy_X=True, fit_intercept=True, n_jobs=None, normalize=False)"
      ]
     },
     "execution_count": 14,
     "metadata": {},
     "output_type": "execute_result"
    }
   ],
   "source": [
    "X_2 = df_initial[['if_verified']]\n",
    "y_2 = df_initial['star_rating']\n",
    "\n",
    "lr_q4 = LinearRegression()\n",
    "lr_q4.fit(X_2, y_2)"
   ]
  },
  {
   "cell_type": "code",
   "execution_count": 15,
   "metadata": {},
   "outputs": [
    {
     "name": "stdout",
     "output_type": "stream",
     "text": [
      "θ0 = 4.578142999769605\n",
      "θ1 = 0.16793391705290198\n"
     ]
    }
   ],
   "source": [
    "print('θ0 =',lr_q4.intercept_)\n",
    "print('θ1 =',lr_q4.coef_[0])"
   ]
  },
  {
   "cell_type": "markdown",
   "metadata": {},
   "source": [
    "The Coefficient θ1 becomes much larger and θ0 becomes smaller comparing to what we have in question 3. Since we do not have review length as our predictor variable any more, we only have one predictor variable if_verified. Recall that length of a review is inversely proportional to its star rating, removing a predictor variable that is inversely-proportional to the response variable will lead to an increase in the coefficient of other proportional predictor variable. Hence, θ1 increases. Moreover, since there are no inversely-proportional predictor variable in the model any more, the intercept θ0 will decrease, because the expected mean value of star rating is higher without the review_length as a predictor."
   ]
  },
  {
   "cell_type": "markdown",
   "metadata": {},
   "source": [
    "## Question 5 & 6\n",
    "\n",
    "Question 5: Split the data into two fractions – the first 90% for training, and the remaining 10% testing (based on the order they appear in the file). Train the same model as in Question 4 on the training set only. What is the model’s MSE on the training and on the test set (1 mark)?\n",
    "\n",
    "Question 6: Using the test set from Question 5, report the Mean Absolute Error (MAE) and R2 coefficient for your predictor (on the test set) (1 mark)."
   ]
  },
  {
   "cell_type": "markdown",
   "metadata": {},
   "source": [
    "#### Answer for Question 5 & 6:"
   ]
  },
  {
   "cell_type": "code",
   "execution_count": 16,
   "metadata": {},
   "outputs": [
    {
     "data": {
      "text/plain": [
       "LinearRegression(copy_X=True, fit_intercept=True, n_jobs=None, normalize=False)"
      ]
     },
     "execution_count": 16,
     "metadata": {},
     "output_type": "execute_result"
    }
   ],
   "source": [
    "X_train, X_test, y_train, y_test = train_test_split(X_2, y_2, test_size=0.1,shuffle=False)\n",
    "\n",
    "lr_q5 = LinearRegression()\n",
    "lr_q5.fit(X_train, y_train)"
   ]
  },
  {
   "cell_type": "code",
   "execution_count": 17,
   "metadata": {},
   "outputs": [],
   "source": [
    "y_pred_test = lr_q5.predict(X_test)\n",
    "y_pred_train = lr_q5.predict(X_train)"
   ]
  },
  {
   "cell_type": "code",
   "execution_count": 18,
   "metadata": {},
   "outputs": [
    {
     "name": "stdout",
     "output_type": "stream",
     "text": [
      "Mean Absolute Error: 0.6221007247299694\n",
      "Mean Squared Error on Test: 0.9723851990304213\n",
      "Mean Squared Error on Train: 0.6554842196694357\n",
      "Root Mean Squared Error: 0.9860959380457975\n",
      "R^2: -0.048115873593612246\n"
     ]
    }
   ],
   "source": [
    "from sklearn import metrics\n",
    "print('Mean Absolute Error:', metrics.mean_absolute_error(y_test, y_pred_test))\n",
    "print('Mean Squared Error on Test:', metrics.mean_squared_error(y_test, y_pred_test))\n",
    "print('Mean Squared Error on Train:', metrics.mean_squared_error(y_train, y_pred_train))\n",
    "print('Root Mean Squared Error:', np.sqrt(metrics.mean_squared_error(y_test, y_pred_test)))\n",
    "print('R^2:', metrics.r2_score(y_test, y_pred_test))"
   ]
  },
  {
   "cell_type": "markdown",
   "metadata": {},
   "source": [
    "## Question 8\n",
    "\n",
    "Question: First, let’s train a predictor that estimates whether a review is verified using the rating and the length: \n",
    "\n",
    "p(review is verified) ≃ σ(θ0 + θ1 × [star rating] + θ2 × [review length])\n",
    "\n",
    "Train a logistic regressor to make the above prediction (you may use a logistic regression library with de- fault parameters, e.g. linear model.LogisticRegression() from sklearn). Report the classification accuracy of this predictor. Report also the proportion of labels that are positive (i.e., the proportion of reviews that are verified) and the proportion of predictions that are positive (1 mark)."
   ]
  },
  {
   "cell_type": "markdown",
   "metadata": {},
   "source": [
    "#### Answer for Question 8:"
   ]
  },
  {
   "cell_type": "code",
   "execution_count": 19,
   "metadata": {},
   "outputs": [],
   "source": [
    "X_8 = df_initial[['star_rating','review_length']]\n",
    "y_8 = df_initial['if_verified']"
   ]
  },
  {
   "cell_type": "code",
   "execution_count": 20,
   "metadata": {},
   "outputs": [],
   "source": [
    "import warnings\n",
    "warnings.filterwarnings(\"ignore\",category=FutureWarning)\n",
    "\n",
    "X_train_8, X_test_8, y_train_8, y_test_8 = train_test_split(X_8, y_8, test_size=0.1,shuffle=False)\n",
    "\n",
    "cl = linear_model.LogisticRegression()\n",
    "cl.fit(X_train_8, y_train_8)\n",
    "\n",
    "train_predictions = cl.predict(X_train_8)\n",
    "test_predictions = cl.predict(X_test_8)"
   ]
  },
  {
   "cell_type": "code",
   "execution_count": 21,
   "metadata": {},
   "outputs": [
    {
     "data": {
      "text/plain": [
       "0.5595711684984155"
      ]
     },
     "execution_count": 21,
     "metadata": {},
     "output_type": "execute_result"
    }
   ],
   "source": [
    "y_test_8.mean()"
   ]
  },
  {
   "cell_type": "code",
   "execution_count": 22,
   "metadata": {},
   "outputs": [
    {
     "name": "stdout",
     "output_type": "stream",
     "text": [
      "Accuracy Score(TRAIN SET): 0.9511758403943692\n",
      "Accuracy Score(TEST SET): 0.559840873845324\n"
     ]
    }
   ],
   "source": [
    "print('Accuracy Score(TRAIN SET):', metrics.accuracy_score(y_train_8, train_predictions))\n",
    "print('Accuracy Score(TEST SET):', metrics.accuracy_score(y_test_8, test_predictions))"
   ]
  },
  {
   "cell_type": "code",
   "execution_count": 23,
   "metadata": {},
   "outputs": [
    {
     "name": "stdout",
     "output_type": "stream",
     "text": [
      "TRAIN SET: proportion of labels that are positive : 0.9513856112197424\n",
      "TEST SET: proportion of labels that are positive : 0.5595711684984155\n",
      "TRAIN SET: proportion of predictions that are positive : 0.9996553765011724\n",
      "TEST SET: proportion of predictions that are positive : 0.9990560312858202\n"
     ]
    }
   ],
   "source": [
    "print('TRAIN SET: proportion of labels that are positive :', len(y_train_8[y_train_8 == 1])/len(y_train_8))\n",
    "print('TEST SET: proportion of labels that are positive :', len(y_test_8[y_test_8 == 1])/len(y_test_8))\n",
    "\n",
    "print('TRAIN SET: proportion of predictions that are positive :', len(train_predictions[train_predictions == 1])/len(train_predictions))\n",
    "print('TEST SET: proportion of predictions that are positive :', len(test_predictions[test_predictions == 1])/len(test_predictions))"
   ]
  },
  {
   "cell_type": "markdown",
   "metadata": {},
   "source": [
    "## Question 9\n",
    "\n",
    "Question:Considering same prediction problem as above, can you come up with a more accurate predictor (e.g. using features from the text, timestamp, etc.)? Write down the feature vector you design, and report its train/test accuracy (1 mark)."
   ]
  },
  {
   "cell_type": "markdown",
   "metadata": {},
   "source": [
    "#### Answer for Question 9:"
   ]
  },
  {
   "cell_type": "markdown",
   "metadata": {},
   "source": [
    "For this question, I added four new features:\n",
    "\n",
    "1. **word_number**: represents the number of words used in the review.\n",
    "2. **month**: month of the review date\n",
    "3. **year**: year of the review date\n",
    "4. **day**: day of the review date"
   ]
  },
  {
   "cell_type": "code",
   "execution_count": 24,
   "metadata": {},
   "outputs": [],
   "source": [
    "import datetime\n",
    "df_initial['word_number'] = [len(str(s).split()) for s in df_initial.review_body]\n",
    "df_initial = df_initial.dropna()\n",
    "df_initial['month'] = [datetime.datetime.strptime(str(a), \"%Y-%m-%d\").month for a in df_initial.review_date]\n",
    "df_initial['year'] = [datetime.datetime.strptime(str(a), \"%Y-%m-%d\").year for a in df_initial.review_date]\n",
    "df_initial['day'] = [datetime.datetime.strptime(str(a), \"%Y-%m-%d\").day for a in df_initial.review_date]"
   ]
  },
  {
   "cell_type": "code",
   "execution_count": 25,
   "metadata": {},
   "outputs": [
    {
     "name": "stdout",
     "output_type": "stream",
     "text": [
      "Accuracy Score: 0.5601105791922325\n"
     ]
    }
   ],
   "source": [
    "X_9 = df_initial[['star_rating','review_length','word_number','month','year','day']]\n",
    "y_9 = df_initial['if_verified']\n",
    "\n",
    "X_train_9, X_test_9, y_train_9, y_test_9 = train_test_split(X_9, y_9, test_size=0.1, shuffle=False)\n",
    "\n",
    "cl_9 = linear_model.LogisticRegression(C=1.0,solver = 'lbfgs',multi_class = 'ovr')\n",
    "cl_9.fit(X_train_9, y_train_9)\n",
    "\n",
    "train_predictions_9 = cl_9.predict(X_train_9)\n",
    "test_predictions_9 = cl_9.predict(X_test_9)\n",
    "\n",
    "print('Accuracy Score:', metrics.accuracy_score(y_test_9, test_predictions_9))"
   ]
  },
  {
   "cell_type": "markdown",
   "metadata": {},
   "source": [
    "The Accuracy I got after adding these four new features is 0.5601105791922325, which is slightly higher than the previous one."
   ]
  }
 ],
 "metadata": {
  "kernelspec": {
   "display_name": "Python 3",
   "language": "python",
   "name": "python3"
  },
  "language_info": {
   "codemirror_mode": {
    "name": "ipython",
    "version": 3
   },
   "file_extension": ".py",
   "mimetype": "text/x-python",
   "name": "python",
   "nbconvert_exporter": "python",
   "pygments_lexer": "ipython3",
   "version": "3.6.2"
  }
 },
 "nbformat": 4,
 "nbformat_minor": 2
}
